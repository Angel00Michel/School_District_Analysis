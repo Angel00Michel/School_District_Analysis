{
 "cells": [
  {
   "cell_type": "markdown",
   "id": "418227be-703e-4b38-a80e-2a73225db071",
   "metadata": {
    "tags": []
   },
   "source": [
    "## Student Data Analysis\n",
    "\n",
    "In this activity, you will use the steps below to analyze a dataset of student test scores from schools in a fake school district.\n",
    "\n",
    "1. Collect the data.\n",
    "\n",
    "2. Prepare the data.\n",
    "\n",
    "3. Summarize the data. \n",
    "\n",
    "4. Drill down into the data. \n",
    "\n",
    "5. Make comparisons. \n",
    "\n"
   ]
  },
  {
   "cell_type": "markdown",
   "id": "9c960cd6-a10b-4e3d-ba23-fe7a3ef7ae95",
   "metadata": {},
   "source": [
    "### Import required libraries and dependencies\n",
    "\n",
    "<!-- https://pypi.org/project/pathlib2/ -->"
   ]
  },
  {
   "cell_type": "code",
   "execution_count": null,
   "id": "08e3103c-4f97-4196-b801-9367c2814306",
   "metadata": {},
   "outputs": [
    {
     "ename": "",
     "evalue": "",
     "output_type": "error",
     "traceback": [
      "\u001b[1;31mRunning cells with 'Python 3.10.4 64-bit' requires ipykernel package.\n",
      "\u001b[1;31mRun the following command to install 'ipykernel' into the Python environment. \n",
      "\u001b[1;31mCommand: '/usr/local/bin/python3 -m pip install ipykernel -U --user --force-reinstall'"
     ]
    }
   ],
   "source": [
    "import pandas as pd\n",
    "import os"
   ]
  },
  {
   "cell_type": "markdown",
   "id": "a47f3bec-4c1a-4b1e-9747-546678c1bb82",
   "metadata": {},
   "source": [
    "## Step 1: Collect the data.\n",
    "\n",
    "To collect the data that you’ll need, complete the following steps:\n",
    "\n",
    "**1. Using the Pandas `read_csv` function and the `os.path.join` function, import the data from the `new_student_data.csv` file, and create a DataFrame called student_df.**"
   ]
  },
  {
   "cell_type": "code",
   "execution_count": null,
   "id": "a57b85c1-d71a-41d4-9e4e-8f84d5655c2c",
   "metadata": {},
   "outputs": [
    {
     "ename": "",
     "evalue": "",
     "output_type": "error",
     "traceback": [
      "\u001b[1;31mRunning cells with 'Python 3.10.4 64-bit' requires ipykernel package.\n",
      "\u001b[1;31mRun the following command to install 'ipykernel' into the Python environment. \n",
      "\u001b[1;31mCommand: '/usr/local/bin/python3 -m pip install ipykernel -U --user --force-reinstall'"
     ]
    }
   ],
   "source": [
    "student_data = os.path.join('../Resources/new_student_data.csv')\n",
    "student_df = pd.read_csv(student_data)"
   ]
  },
  {
   "cell_type": "markdown",
   "id": "cd5cafc8-06d6-42ec-9fab-910604de3398",
   "metadata": {},
   "source": [
    "**2. Use the head (and/or the tail) function to confirm that Pandas properly imported the data.**"
   ]
  },
  {
   "cell_type": "code",
   "execution_count": null,
   "id": "a59a4d68-410a-43f0-a187-d1832bb1c675",
   "metadata": {},
   "outputs": [
    {
     "ename": "",
     "evalue": "",
     "output_type": "error",
     "traceback": [
      "\u001b[1;31mRunning cells with 'Python 3.10.4 64-bit' requires ipykernel package.\n",
      "\u001b[1;31mRun the following command to install 'ipykernel' into the Python environment. \n",
      "\u001b[1;31mCommand: '/usr/local/bin/python3 -m pip install ipykernel -U --user --force-reinstall'"
     ]
    }
   ],
   "source": [
    "student_df.head()"
   ]
  },
  {
   "cell_type": "markdown",
   "id": "d7f4b183-8e6a-4d83-9d40-a5fd665ac07f",
   "metadata": {},
   "source": [
    "## Step 2: Prepare the Data\n",
    "\n",
    "To prepare and clean your data for analysis, complete the following steps:\n",
    "    \n",
    "**1. Check for and replace all `NaN`, or missing, values in the student_df DataFrame.**\n",
    "\n",
    "Use the following methods and functions to complete this section:\n",
    "* `count()`\n",
    "* `dropna()`\n",
    "* `duplicated()`\n",
    "* `sum()`\n",
    "* `drop_duplicates()`"
   ]
  },
  {
   "cell_type": "code",
   "execution_count": null,
   "id": "6cf0bf6f-49f3-49db-81f0-d12cd0864142",
   "metadata": {},
   "outputs": [
    {
     "ename": "",
     "evalue": "",
     "output_type": "error",
     "traceback": [
      "\u001b[1;31mRunning cells with 'Python 3.10.4 64-bit' requires ipykernel package.\n",
      "\u001b[1;31mRun the following command to install 'ipykernel' into the Python environment. \n",
      "\u001b[1;31mCommand: '/usr/local/bin/python3 -m pip install ipykernel -U --user --force-reinstall'"
     ]
    }
   ],
   "source": [
    "# Check for null values\n",
    "student_df.isna().sum()"
   ]
  },
  {
   "cell_type": "code",
   "execution_count": null,
   "id": "08267d29",
   "metadata": {},
   "outputs": [
    {
     "ename": "",
     "evalue": "",
     "output_type": "error",
     "traceback": [
      "\u001b[1;31mRunning cells with 'Python 3.10.4 64-bit' requires ipykernel package.\n",
      "\u001b[1;31mRun the following command to install 'ipykernel' into the Python environment. \n",
      "\u001b[1;31mCommand: '/usr/local/bin/python3 -m pip install ipykernel -U --user --force-reinstall'"
     ]
    }
   ],
   "source": [
    "# Drop null values\n",
    "student_df = student_df.dropna()\n",
    "student_df.isna().sum()"
   ]
  },
  {
   "cell_type": "code",
   "execution_count": null,
   "id": "acd31d36-7ad9-4ddf-b668-1713bdddf76c",
   "metadata": {},
   "outputs": [
    {
     "ename": "",
     "evalue": "",
     "output_type": "error",
     "traceback": [
      "\u001b[1;31mRunning cells with 'Python 3.10.4 64-bit' requires ipykernel package.\n",
      "\u001b[1;31mRun the following command to install 'ipykernel' into the Python environment. \n",
      "\u001b[1;31mCommand: '/usr/local/bin/python3 -m pip install ipykernel -U --user --force-reinstall'"
     ]
    }
   ],
   "source": [
    "# Check for duplicate rows\n",
    "student_df.duplicated().sum()"
   ]
  },
  {
   "cell_type": "code",
   "execution_count": null,
   "id": "f7c0b82a-57f0-436d-b85c-7cccade0fa5a",
   "metadata": {},
   "outputs": [
    {
     "ename": "",
     "evalue": "",
     "output_type": "error",
     "traceback": [
      "\u001b[1;31mRunning cells with 'Python 3.10.4 64-bit' requires ipykernel package.\n",
      "\u001b[1;31mRun the following command to install 'ipykernel' into the Python environment. \n",
      "\u001b[1;31mCommand: '/usr/local/bin/python3 -m pip install ipykernel -U --user --force-reinstall'"
     ]
    }
   ],
   "source": [
    "# Drop duplicate rows\n",
    "student_df = student_df.drop_duplicates()\n",
    "student_df.duplicated().sum()"
   ]
  },
  {
   "cell_type": "markdown",
   "id": "79db6404-9738-4271-bdb9-31f738c00aa7",
   "metadata": {},
   "source": [
    "**2. Use the `str.replace` function to remove the \"th\" from the grade levels in the grade column.**"
   ]
  },
  {
   "cell_type": "code",
   "execution_count": null,
   "id": "52ea6a39-311b-4d8f-92d9-c79147304ba7",
   "metadata": {},
   "outputs": [
    {
     "ename": "",
     "evalue": "",
     "output_type": "error",
     "traceback": [
      "\u001b[1;31mRunning cells with 'Python 3.10.4 64-bit' requires ipykernel package.\n",
      "\u001b[1;31mRun the following command to install 'ipykernel' into the Python environment. \n",
      "\u001b[1;31mCommand: '/usr/local/bin/python3 -m pip install ipykernel -U --user --force-reinstall'"
     ]
    }
   ],
   "source": [
    "# Check the type of the grade column with dtypes\n",
    "student_df.dtypes"
   ]
  },
  {
   "cell_type": "code",
   "execution_count": null,
   "id": "c2d41d9a-68c1-4f66-b9b9-67f0ba14474d",
   "metadata": {},
   "outputs": [
    {
     "ename": "",
     "evalue": "",
     "output_type": "error",
     "traceback": [
      "\u001b[1;31mRunning cells with 'Python 3.10.4 64-bit' requires ipykernel package.\n",
      "\u001b[1;31mRun the following command to install 'ipykernel' into the Python environment. \n",
      "\u001b[1;31mCommand: '/usr/local/bin/python3 -m pip install ipykernel -U --user --force-reinstall'"
     ]
    }
   ],
   "source": [
    "# View the grade column to look for a reason it isn't numeric\n",
    "student_df['grade']"
   ]
  },
  {
   "cell_type": "code",
   "execution_count": null,
   "id": "a290778b-2909-48ad-a7fd-516feea064b7",
   "metadata": {},
   "outputs": [
    {
     "ename": "",
     "evalue": "",
     "output_type": "error",
     "traceback": [
      "\u001b[1;31mRunning cells with 'Python 3.10.4 64-bit' requires ipykernel package.\n",
      "\u001b[1;31mRun the following command to install 'ipykernel' into the Python environment. \n",
      "\u001b[1;31mCommand: '/usr/local/bin/python3 -m pip install ipykernel -U --user --force-reinstall'"
     ]
    }
   ],
   "source": [
    "# Remove 'th' suffixes by replacing with and empty string\n",
    "student_df['grade'] = student_df['grade'].str.replace('th', '')"
   ]
  },
  {
   "cell_type": "code",
   "execution_count": null,
   "id": "a00629b4-93c9-4b02-aefa-cc539f94f474",
   "metadata": {},
   "outputs": [
    {
     "ename": "",
     "evalue": "",
     "output_type": "error",
     "traceback": [
      "\u001b[1;31mRunning cells with 'Python 3.10.4 64-bit' requires ipykernel package.\n",
      "\u001b[1;31mRun the following command to install 'ipykernel' into the Python environment. \n",
      "\u001b[1;31mCommand: '/usr/local/bin/python3 -m pip install ipykernel -U --user --force-reinstall'"
     ]
    }
   ],
   "source": [
    "# View the grade column to ensure the suffixes were removed\n",
    "student_df['grade']"
   ]
  },
  {
   "cell_type": "markdown",
   "id": "adb16d7d-583a-4d59-90b7-caafdc85074b",
   "metadata": {},
   "source": [
    "**3. Convert the data type of the \"grade\" column to a `int`.**"
   ]
  },
  {
   "cell_type": "code",
   "execution_count": null,
   "id": "f8d19692-86d8-4a58-9d71-46981b51e14e",
   "metadata": {},
   "outputs": [
    {
     "ename": "",
     "evalue": "",
     "output_type": "error",
     "traceback": [
      "\u001b[1;31mRunning cells with 'Python 3.10.4 64-bit' requires ipykernel package.\n",
      "\u001b[1;31mRun the following command to install 'ipykernel' into the Python environment. \n",
      "\u001b[1;31mCommand: '/usr/local/bin/python3 -m pip install ipykernel -U --user --force-reinstall'"
     ]
    }
   ],
   "source": [
    "student_df['grade'] = student_df['grade'].astype(int)\n",
    "student_df.dtypes"
   ]
  },
  {
   "cell_type": "markdown",
   "id": "daf3d31f-fc43-4db4-82b5-a712c62a55fb",
   "metadata": {},
   "source": [
    "**4. Use the head (and/or the tail) function to preview the DataFrame.**"
   ]
  },
  {
   "cell_type": "code",
   "execution_count": null,
   "id": "d19af3b5-5da7-4371-a4b6-46ce13394bb6",
   "metadata": {},
   "outputs": [
    {
     "ename": "",
     "evalue": "",
     "output_type": "error",
     "traceback": [
      "\u001b[1;31mRunning cells with 'Python 3.10.4 64-bit' requires ipykernel package.\n",
      "\u001b[1;31mRun the following command to install 'ipykernel' into the Python environment. \n",
      "\u001b[1;31mCommand: '/usr/local/bin/python3 -m pip install ipykernel -U --user --force-reinstall'"
     ]
    }
   ],
   "source": [
    "student_df.head()"
   ]
  },
  {
   "cell_type": "markdown",
   "id": "e52c4a6f-7dd7-4bb6-8f75-5f0995e7b32b",
   "metadata": {},
   "source": [
    "## Step 3: Summarize the Data\n",
    "\n",
    "To summarize your data, complete the following steps:\n",
    "\n",
    "**1. Generate the summary statistics for each DataFrame by using the `describe` function.**"
   ]
  },
  {
   "cell_type": "code",
   "execution_count": null,
   "id": "7963f284-3d72-4ba9-93f6-dd086cef1811",
   "metadata": {},
   "outputs": [
    {
     "ename": "",
     "evalue": "",
     "output_type": "error",
     "traceback": [
      "\u001b[1;31mRunning cells with 'Python 3.10.4 64-bit' requires ipykernel package.\n",
      "\u001b[1;31mRun the following command to install 'ipykernel' into the Python environment. \n",
      "\u001b[1;31mCommand: '/usr/local/bin/python3 -m pip install ipykernel -U --user --force-reinstall'"
     ]
    }
   ],
   "source": [
    "student_df.describe()"
   ]
  },
  {
   "cell_type": "markdown",
   "id": "74472462",
   "metadata": {},
   "source": [
    "**2. Display the mean value of each numeric column.**"
   ]
  },
  {
   "cell_type": "code",
   "execution_count": null,
   "id": "0d1d61ca",
   "metadata": {},
   "outputs": [
    {
     "ename": "",
     "evalue": "",
     "output_type": "error",
     "traceback": [
      "\u001b[1;31mRunning cells with 'Python 3.10.4 64-bit' requires ipykernel package.\n",
      "\u001b[1;31mRun the following command to install 'ipykernel' into the Python environment. \n",
      "\u001b[1;31mCommand: '/usr/local/bin/python3 -m pip install ipykernel -U --user --force-reinstall'"
     ]
    }
   ],
   "source": [
    "student_df.mean()"
   ]
  },
  {
   "cell_type": "markdown",
   "id": "b7a4682c",
   "metadata": {},
   "source": [
    "**3. Display the maximum value of every column.**"
   ]
  },
  {
   "cell_type": "code",
   "execution_count": null,
   "id": "5b695731",
   "metadata": {},
   "outputs": [
    {
     "ename": "",
     "evalue": "",
     "output_type": "error",
     "traceback": [
      "\u001b[1;31mRunning cells with 'Python 3.10.4 64-bit' requires ipykernel package.\n",
      "\u001b[1;31mRun the following command to install 'ipykernel' into the Python environment. \n",
      "\u001b[1;31mCommand: '/usr/local/bin/python3 -m pip install ipykernel -U --user --force-reinstall'"
     ]
    }
   ],
   "source": [
    "student_df.max()"
   ]
  },
  {
   "cell_type": "markdown",
   "id": "cfb98642",
   "metadata": {},
   "source": [
    "**4. Generate the minimum math score, and store it in the `min_math_score` variable.**"
   ]
  },
  {
   "cell_type": "code",
   "execution_count": null,
   "id": "5f052513",
   "metadata": {},
   "outputs": [
    {
     "ename": "",
     "evalue": "",
     "output_type": "error",
     "traceback": [
      "\u001b[1;31mRunning cells with 'Python 3.10.4 64-bit' requires ipykernel package.\n",
      "\u001b[1;31mRun the following command to install 'ipykernel' into the Python environment. \n",
      "\u001b[1;31mCommand: '/usr/local/bin/python3 -m pip install ipykernel -U --user --force-reinstall'"
     ]
    }
   ],
   "source": [
    "min_math_score = student_df['math_score'].min()\n",
    "min_math_score"
   ]
  },
  {
   "cell_type": "markdown",
   "id": "bce02375",
   "metadata": {},
   "source": [
    "## Good work!\n",
    "\n",
    "You are now prepared to start the next lesson before starting step 4."
   ]
  }
 ],
 "metadata": {
  "kernelspec": {
   "display_name": "Python 3.10.4 64-bit",
   "language": "python",
   "name": "python3"
  },
  "language_info": {
   "codemirror_mode": {
    "name": "ipython",
    "version": 3
   },
   "file_extension": ".py",
   "mimetype": "text/x-python",
   "name": "python",
   "nbconvert_exporter": "python",
   "pygments_lexer": "ipython3",
   "version": "3.10.4"
  },
  "vscode": {
   "interpreter": {
    "hash": "aee8b7b246df8f9039afb4144a1f6fd8d2ca17a180786b69acc140d282b71a49"
   }
  }
 },
 "nbformat": 4,
 "nbformat_minor": 5
}
